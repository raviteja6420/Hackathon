{
 "cells": [
  {
   "cell_type": "code",
   "execution_count": null,
   "id": "92d7b6cb",
   "metadata": {},
   "outputs": [],
   "source": []
  },
  {
   "cell_type": "markdown",
   "id": "f1db264b",
   "metadata": {},
   "source": [
    "## 1. Which of the following is an invalid identifier?\n",
    "* 1st_str\n",
    "* My_str_1\n",
    "* __\n",
    "* Foo"
   ]
  },
  {
   "cell_type": "markdown",
   "id": "cbd8f151",
   "metadata": {},
   "source": [
    "## 2. In Python, which of the following is invalid statement?\n",
    "* Abc = 100,000,000\n",
    "* A,b,c = 100,200,300\n",
    "* A b c = 100 200 300\n",
    "* A_b_c = 100,000,000"
   ]
  },
  {
   "cell_type": "code",
   "execution_count": 1,
   "id": "690f3ed7",
   "metadata": {},
   "outputs": [],
   "source": [
    "Abc = 100,000,000"
   ]
  },
  {
   "cell_type": "code",
   "execution_count": 2,
   "id": "cb79fc69",
   "metadata": {},
   "outputs": [
    {
     "data": {
      "text/plain": [
       "(100, 0, 0)"
      ]
     },
     "execution_count": 2,
     "metadata": {},
     "output_type": "execute_result"
    }
   ],
   "source": [
    "Abc"
   ]
  },
  {
   "cell_type": "markdown",
   "id": "c21e9aee",
   "metadata": {},
   "source": [
    "## 3. Which of the following is an invalid tuple?\n",
    "* tup = (1, 2, 3)\n",
    "* tup = (1)\n",
    "* tup = 1, 2, 3\n",
    "* tup = [1, 2, 3]"
   ]
  },
  {
   "cell_type": "code",
   "execution_count": 3,
   "id": "bc6aa02e",
   "metadata": {},
   "outputs": [],
   "source": [
    "tup = 1,2,3"
   ]
  },
  {
   "cell_type": "code",
   "execution_count": 4,
   "id": "94fa9616",
   "metadata": {},
   "outputs": [
    {
     "data": {
      "text/plain": [
       "(1, 2, 3)"
      ]
     },
     "execution_count": 4,
     "metadata": {},
     "output_type": "execute_result"
    }
   ],
   "source": [
    "tup"
   ]
  },
  {
   "cell_type": "markdown",
   "id": "feda1adb",
   "metadata": {},
   "source": [
    "## 4. Calculate the dot product and angle between c = (−8, −6) and d = (−4, 5)?\n",
    "* dot product = -2, acute angle\n",
    "* dot product = 2, acute angle\n",
    "* dot product = 2, obtuse angle\n",
    "* dot product = -2, obtuse angle"
   ]
  },
  {
   "cell_type": "markdown",
   "id": "f17ae792",
   "metadata": {},
   "source": [
    "## 5. Which of the following vectors are orthogonal? (Choose all the correct options)\n",
    "* a = (6,2,-1), b = (2,-7,-2)\n",
    "* a = (4,-8), b = (-4,-2)\n",
    "* a = (1,2,-1), b = (2,-3,-2)\n",
    "* a = (5,2,-2), b = (2,-7,-2)"
   ]
  },
  {
   "cell_type": "markdown",
   "id": "633b3871",
   "metadata": {},
   "source": [
    "## 6. In Domino's, an average of 3 out of 5 customers ask for ketchup with their Pizza. Assume a random sample of 10 customers is selected. Find the probability that exactly 6 customers ask for ketchup with their Pizza.\n",
    "a. 0.20     \n",
    "b. 0.25     \n",
    "c. 0.30          \n",
    "d. 0.35     "
   ]
  },
  {
   "cell_type": "markdown",
   "id": "8fcf9bbb",
   "metadata": {},
   "source": [
    "## 7. What are the differences of using squared difference over absolute difference for variance? (Choose all the correct options)\n",
    "1. Square retains the arithmetic signs after computing.\n",
    "2. Square function is continuous and differentiable everywhere.\n",
    "3. Square removes the effects of outliers in the data.\n",
    "4. Square magnifies the outliers in the data."
   ]
  },
  {
   "cell_type": "code",
   "execution_count": null,
   "id": "77a09237",
   "metadata": {},
   "outputs": [],
   "source": []
  },
  {
   "cell_type": "markdown",
   "id": "a3a59c6c",
   "metadata": {},
   "source": [
    "## 8. Select the support vectors in the figure below when training an SVM. There are two classes and each sample is marked with an id.\n",
    "\n",
    "![SVM](C:\\Users\\hp\\Downloads\\svm_)\n",
    " \n",
    "a. 1,2    \n",
    "b. 2,5,1,3     \n",
    "c. 4,3       \n",
    "d. 1,2,5"
   ]
  },
  {
   "cell_type": "code",
   "execution_count": null,
   "id": "7feb598c",
   "metadata": {},
   "outputs": [],
   "source": []
  },
  {
   "cell_type": "markdown",
   "id": "7888f594",
   "metadata": {},
   "source": [
    "## 9. Given the dataset below. Lets say the goal is to predict the food review based on its smell, taste and portion size. Lets assume that you want to create a Decision Tree Model. What is the information gain with respect to 'Taste' i.e. Compute Information_Gain(Review, Taste)?\n",
    "\n",
    "a. 0     \n",
    "b. 0.5     \n",
    "c. 0.6      \n",
    "d. 1\n"
   ]
  },
  {
   "cell_type": "code",
   "execution_count": null,
   "id": "9a99cf35",
   "metadata": {},
   "outputs": [],
   "source": []
  }
 ],
 "metadata": {
  "kernelspec": {
   "display_name": "Python 3 (ipykernel)",
   "language": "python",
   "name": "python3"
  },
  "language_info": {
   "codemirror_mode": {
    "name": "ipython",
    "version": 3
   },
   "file_extension": ".py",
   "mimetype": "text/x-python",
   "name": "python",
   "nbconvert_exporter": "python",
   "pygments_lexer": "ipython3",
   "version": "3.10.9"
  }
 },
 "nbformat": 4,
 "nbformat_minor": 5
}
